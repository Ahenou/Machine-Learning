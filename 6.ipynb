{
 "cells": [
  {
   "cell_type": "code",
   "execution_count": 2,
   "metadata": {},
   "outputs": [],
   "source": [
    "#Importing libraries\n",
    "import numpy as np\n",
    "import matplotlib.pyplot as plt"
   ]
  },
  {
   "cell_type": "code",
   "execution_count": 3,
   "metadata": {},
   "outputs": [
    {
     "data": {
      "image/png": "[encoded data removed]",
      "text/plain": [
       "<Figure size 432x288 with 1 Axes>"
      ]
     },
     "metadata": {
      "needs_background": "light"
     },
     "output_type": "display_data"
    }
   ],
   "source": [
    "############################################# 6.20 #############################################\n",
    "\n",
    "R   = 200           #R dimension\n",
    "n   = 15            #number of iterations\n",
    "var = 0.01          #variance\n",
    "std = var**0.5      #standard deviation\n",
    "\n",
    "theta_0 = np.random.normal(0,1,(R,1))  #initializing unknown parameter vector\n",
    "x_n     = np.random.normal(0,1,(R,1))  #input variables Rx1\n",
    "n_n     = np.random.normal(0,std)      #white Gaussian noise\n",
    "\n",
    "y_n = theta_0.T @ x_n + n_n            #output according to the model\n",
    "\n",
    "#%%%%%%%%%%%%%%%%%%%%%%%%%%%%%% APA %%%%%%%%%%%%%%%%%%%%%%%%%%%%%%\n",
    "miu  = 0.2                  #APA algorithm parameter\n",
    "delt = 0.001                #APA algorithn parameter\n",
    "q    = 30                   #APA reusing algorithm parameter\n",
    "\n",
    "X_n = np.zeros((q,R))       #saving space for qxl input matrix\n",
    "Y_n = np.zeros((q,1))       #saving space for qx1 output matrix\n",
    "\n",
    "for i in range(q):          #generating X_n and Y_n matrices\n",
    "    X_n[i] = x_n.T\n",
    "    Y_n[i] = y_n.T\n",
    "\n",
    "theta_nAPA = theta_0.copy()\n",
    "e1_vec = []                 #saving space for MSE\n",
    " \n",
    "for i in range(n):          #5.2 Algorithm\n",
    "    e_nAPA     = Y_n - X_n @ theta_nAPA\n",
    "    matrix     = delt * np.identity(q) + X_n @ X_n.T\n",
    "    theta_nAPA += miu * (X_n.T @ np.linalg.inv(matrix) @ e_nAPA)\n",
    "    \n",
    "    e1_vec.append(e_nAPA[0]**2)     #MSE vector\n",
    " \n",
    "plt.plot(range(n),e1_vec)           #plotting MSE vs n\n",
    "\n",
    "#%%%%%%%%%%%%%%%%%%%%%%%%%%%%%% NLMS %%%%%%%%%%%%%%%%%%%%%%%%%%%%%%\n",
    "miu  = 1.2                      #NLMS algorithm parameter\n",
    "delt = 0.001                    #NLMS algorithm parameter\n",
    "\n",
    "theta_n = theta_0.copy()\n",
    "e2_vec = []                     #saving space for MSE\n",
    "\n",
    "for i in range(n):              #5.3 Algorithm\n",
    "    e_n = y_n - theta_n.T @ x_n\n",
    "    theta_n += (miu / (delt + x_n.T @ x_n)) * x_n * e_n\n",
    "    \n",
    "    e2_vec.append(e_n**2)       #MSE vector\n",
    "    \n",
    "plt.plot(range(n),np.squeeze(e2_vec))\n",
    "\n",
    "#%%%%%%%%%%%%%%%%%%%%%%%%%%%%%% RLS %%%%%%%%%%%%%%%%%%%%%%%%%%%%%%\n",
    "beta = 1                        #RLS algorithm parameter\n",
    "lamb = 1                        #RLS algorithm parameter\n",
    "P_n  = np.identity(R)           #initializing identity P matrix\n",
    "\n",
    "theta_nRLS = theta_0.copy()\n",
    "e3_vec = []                     #saving space for MSE\n",
    "\n",
    "for i in range(n):              #6.1 Algorithm\n",
    "    e_nRLS     = y_n - theta_nRLS.T @ x_n\n",
    "    z_n        = P_n @ x_n\n",
    "    K_n        = z_n / (beta + x_n.T @ z_n)\n",
    "    theta_nRLS += K_n * e_nRLS\n",
    "    P_n        = (1/beta)* P_n - (1/beta) * K_n @ z_n.T\n",
    "    \n",
    "    e3_vec.append(e_nRLS**2)    #MSE vector\n",
    "    \n",
    "plt.plot(range(n),np.squeeze(e3_vec))      #plotting results\n",
    "plt.legend(['APA','NLMS','RLS'])\n",
    "plt.xlabel('n')\n",
    "plt.ylabel('MSE')\n",
    "plt.show()"
   ]
  },
  {
   "cell_type": "code",
   "execution_count": 4,
   "metadata": {},
   "outputs": [
    {
     "data": {
      "image/png": "[encoded data removed]",
      "text/plain": [
       "<Figure size 432x288 with 1 Axes>"
      ]
     },
     "metadata": {
      "needs_background": "light"
     },
     "output_type": "display_data"
    }
   ],
   "source": [
    "############################################# 6.21 #############################################\n",
    "\n",
    "R   = 5                 #R dimension\n",
    "n   = 1000              #number of iterations\n",
    "\n",
    "alpha = 0.97            #LMS nonstationary parameter\n",
    "\n",
    "w_n = np.random.normal(0,0.1**0.5,(R,1)) #random vector for time varying model\n",
    "theta_00 = np.random.normal(0,1,(R,1))   #initializing unknown parameter vector\n",
    "Theta_0n = [] #saving space for time varying unknown parameter vector arange\n",
    "\n",
    "x_n      = np.random.normal(0,1,(R,1))      #input variables Rx1\n",
    "n_n      = np.random.normal(0,0.001**0.5)   #white Gaussian noise\n",
    " \n",
    "for i in range(n): #creating time varying unknown parameter vector arrange\n",
    "    theta_0n = alpha*theta_00 + w_n     #Eq 5.77\n",
    "    Theta_0n.append(theta_0n)\n",
    "    \n",
    "y_n = theta_00.T @ x_n + n_n            #Eq 6.81\n",
    "\n",
    "#%%%%%%%%%%%%%%%%%%%%%%%%%%%%%% NLMS %%%%%%%%%%%%%%%%%%%%%%%%%%%%%%\n",
    "miu  = 0.5                              #NLMS algorithm parameter\n",
    "delt = 0.001                            #NLMS algorithm parameter\n",
    "\n",
    "theta_0n = theta_00.copy()\n",
    "e1_vec = []                             #saving space for MSE\n",
    "\n",
    "for i in range(n):                      #5.3 Algorithm\n",
    "    e_n = y_n - Theta_0n[i].T @ x_n\n",
    "    theta_0n += (miu / (delt + x_n.T @ x_n)) * x_n * e_n\n",
    "    \n",
    "    e1_vec.append(e_n**2)               #MSE vector\n",
    "    \n",
    "plt.plot(range(n),np.squeeze(e1_vec))\n",
    "    \n",
    "#%%RLS\n",
    "beta = 0.995                    #RLS algorithm parameter\n",
    "lamb = 1                        #RLS algorithm parameter\n",
    "P_n  = np.identity(R)           #initializing identity P matrix\n",
    "\n",
    "theta_nRLS = theta_00.copy()\n",
    "e2_vec = []                     #saving space for MSE\n",
    "\n",
    "for i in range(n):              #6.1 Algorithm\n",
    "    e_nRLS     = y_n - Theta_0n[i].T @ x_n\n",
    "    z_n        = P_n @ x_n\n",
    "    K_n        = z_n / (beta + x_n.T @ z_n)\n",
    "    theta_nRLS += K_n * e_nRLS\n",
    "    P_n        = (1/beta)* P_n - (1/beta) * K_n @ z_n.T\n",
    "    \n",
    "    e2_vec.append(e_nRLS**2)    #MSE vector\n",
    "    \n",
    "plt.plot(range(n),np.squeeze(e2_vec))      #plotting results\n",
    "plt.legend(['NLMS','RLS'])\n",
    "plt.xlabel('n')\n",
    "plt.ylabel('MSE')\n",
    "plt.show()"
   ]
  },
  {
   "cell_type": "code",
   "execution_count": 5,
   "metadata": {},
   "outputs": [
    {
     "name": "stdout",
     "output_type": "stream",
     "text": [
      "The Euclidian distance using LS with X and yn is:  0.010635185850381633\n",
      "The Euclidian distance using LS with Xn and yn is:  26.934781801187025\n",
      "The Euclidian distance using TLS with Xn and yn is:  2.1776915863074944\n"
     ]
    }
   ],
   "source": [
    "############################################# 6.22 #############################################\n",
    "\n",
    "R = 90                                  #R dimension\n",
    "\n",
    "X       = np.random.normal(0,1,(150,R)) #entries matrix N(0,1)\n",
    "theta_0 = np.random.normal(0,1,(R,1))   #initializing unknown parameter vector\n",
    "\n",
    "y = X @ theta_0                         #output vector\n",
    "\n",
    "yn = y + np.random.normal(0,0.01,(150,1))   #noisy output vector\n",
    "\n",
    "E  = np.random.normal(0,0.2,(150,R))    #noise matrix\n",
    "Xn = X + E                              #noisy input matrix \n",
    "        \n",
    "#%%(a)    LS estimate with input X and noisy output yn\n",
    "X_pi = np.linalg.inv(X.T @ X) @ X.T\n",
    "theta_LSa = X_pi @ yn\n",
    "dist_LSa = np.linalg.norm(theta_0-theta_LSa)    #Euclidean distance wrt theta_0\n",
    "\n",
    "#%%(b)    LS estimate with noisy input Xn and noisy output yn\n",
    "Xn_pi = np.linalg.inv(Xn.T @ Xn) @ Xn.T\n",
    "theta_LSb = Xn_pi @ yn\n",
    "dist_LSb = np.linalg.norm(theta_0-theta_LSb)    #Euclidean distance wrt theta_0\n",
    "\n",
    "#%%(c)    TLS estimate with noisy input Xn and noisy output yn\n",
    "Xy = np.zeros((150,R+1))    \n",
    "for i in range(150):    #generating (Nx(l+1)) matrix [X|y] according to Eq 6.70\n",
    "    for j in range(R):\n",
    "        Xy[i,j] = X[i,j]\n",
    "    Xy[i,90] = y[i]\n",
    "    \n",
    "eig     = np.linalg.eigvals(Xy @ Xy.T)  #eigenvalues of [X|y]\n",
    "eig_nz = []                             #saving space for nonzero eigenvalues\n",
    "for i in eig:                           #searching for nonzero eigenvalues\n",
    "    if i >= 0.001:\n",
    "        eig_nz.append(i)\n",
    "        \n",
    "sigma_l1 = min(eig_nz)**0.5     #lowest nonzero eigenvalue according to Eq 6.71\n",
    "\n",
    "matrix = ((Xn.T @ Xn) - (sigma_l1**2 * np.identity(R)))  \n",
    "theta_TLS = np.linalg.inv(matrix) @ Xn.T @ yn            #Eq 6.78\n",
    "dist_TLS = np.linalg.norm(theta_0-theta_TLS)    #Euclidean distance wrt theta_0\n",
    "\n",
    "print('The Euclidian distance using LS with X and yn is: ',dist_LSa)\n",
    "print('The Euclidian distance using LS with Xn and yn is: ',dist_TLS)\n",
    "print('The Euclidian distance using TLS with Xn and yn is: ',dist_LSb)"
   ]
  },
  {
   "cell_type": "code",
   "execution_count": null,
   "metadata": {},
   "outputs": [],
   "source": []
  }
 ],
 "metadata": {
  "kernelspec": {
   "display_name": "Python 3",
   "language": "python",
   "name": "python3"
  },
  "language_info": {
   "codemirror_mode": {
    "name": "ipython",
    "version": 3
   },
   "file_extension": ".py",
   "mimetype": "text/x-python",
   "name": "python",
   "nbconvert_exporter": "python",
   "pygments_lexer": "ipython3",
   "version": "3.7.1"
  }
 },
 "nbformat": 4,
 "nbformat_minor": 2
}
